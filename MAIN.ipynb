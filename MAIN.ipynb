{
 "cells": [
  {
   "cell_type": "markdown",
   "metadata": {},
   "source": [
    "<img src=\"files/PyContra.png\">"
   ]
  },
  {
   "cell_type": "markdown",
   "metadata": {},
   "source": [
    "## PyContra: python implementaion of contrafold (predict 2D structure of RNA from sequence only)"
   ]
  },
  {
   "cell_type": "markdown",
   "metadata": {},
   "source": [
    "### You can checkout PyContra on GitHub  @   https://github.com/Guardianofgotham/pyCONTRA"
   ]
  },
  {
   "cell_type": "markdown",
   "metadata": {},
   "source": [
    "## Required file to run PyContra\n",
    "> ['argparse', 'math', 'time', 'os', 'array', 'sys', 'enum']"
   ]
  },
  {
   "cell_type": "markdown",
   "metadata": {},
   "source": [
    "## How to run\n",
    "> 1. Specify input file\n",
    "> 2. Run driver code cell\n",
    "> 3. Get output from output cell"
   ]
  },
  {
   "cell_type": "markdown",
   "metadata": {},
   "source": [
    "# Input file"
   ]
  },
  {
   "cell_type": "code",
   "execution_count": 8,
   "metadata": {},
   "outputs": [],
   "source": [
    "File_path = 'sequence.txt'"
   ]
  },
  {
   "cell_type": "markdown",
   "metadata": {},
   "source": [
    "# Driver"
   ]
  },
  {
   "cell_type": "code",
   "execution_count": 9,
   "metadata": {},
   "outputs": [
    {
     "name": "stdout",
     "output_type": "stream",
     "text": [
      "Processing file .......\n",
      "\n",
      "  [+] File is processed\n",
      "  [+] You can check output below\n"
     ]
    }
   ],
   "source": [
    "import subprocess\n",
    "\n",
    "# #For Linux or mac\n",
    "# command = \"py -3 driver.py --predict \"+File_path \n",
    "\n",
    "#For windows\n",
    "command = \"python driver.py --predict \"+File_path\n",
    "\n",
    "\n",
    "print(\"Processing file .......\")\n",
    "\n",
    "Output = subprocess.check_output(command)\n",
    "Output = Output.decode(\"utf-8\")\n",
    "Output = Output.split(\"\\n\")\n",
    "\n",
    "\n",
    "print()\n",
    "print('  [+] File is processed')\n",
    "print('  [+] You can check output below')"
   ]
  },
  {
   "cell_type": "markdown",
   "metadata": {},
   "source": [
    "# Output file"
   ]
  },
  {
   "cell_type": "code",
   "execution_count": 10,
   "metadata": {
    "scrolled": true
   },
   "outputs": [
    {
     "name": "stdout",
     "output_type": "stream",
     "text": [
      "\n",
      "--------------Header of input file--------------\n",
      "\n",
      ">lcl|NC_000067.7_cds_XP_006495613.1_1 [gene=Xkr4] [db_xref=GeneID:497097] [protein=XK-related protein 4 isoform X1] [protein_id=XP_006495613.1] [location=complement(join(3286245..3287191,3491925..3492124,3740775..3741571))] [gbkey=CDS]\r\n",
      "\n",
      "--------------Sequence of input file--------------\n",
      "\n",
      "AUGGCCGCUAAGUCAGACGGGAGGCUGAAGAUGAAGAAGAGCAGCGACGUGGCGUUCACCCCGCUGCAGAACUCGGACAAUUCGGGCUCUGUGCAAGGACUGGCUCCAGGCUUGCCGUCGGGGUCCGGAGCCGAGGACACGGAGGCGGCCGGAGGCGGCUGCUGCCCGGACGGCGGUGGCUGCUCGCGCUGC\r\n",
      "\n",
      "--------------2D structure ofinput file--------------\n",
      "\n",
      "..((((((................................((((((..(.........)..)))))).(..((((.......))))..)............((.(((.((((.........)))).))).))............))))))....((((((((((((.....)))))))))))).........\r\n"
     ]
    }
   ],
   "source": [
    "# Header of input file\n",
    "print()\n",
    "print(\"--------------Header of input file--------------\")\n",
    "print()\n",
    "print(Output[8])\n",
    "      \n",
    "    \n",
    "# Sequence from input file\n",
    "print()\n",
    "print(\"--------------Sequence of input file--------------\")\n",
    "print()\n",
    "print(Output[9])\n",
    "\n",
    "\n",
    "# 2D structure in vienna format\n",
    "print()\n",
    "print(\"--------------2D structure ofinput file--------------\")\n",
    "print()\n",
    "print(Output[11])"
   ]
  },
  {
   "cell_type": "markdown",
   "metadata": {},
   "source": [
    "# PyContra vs Contrafold"
   ]
  },
  {
   "cell_type": "markdown",
   "metadata": {},
   "source": [
    "### Why result vary as PyContra is implementation of ContraFold\n",
    "> Due to floating error in python mathematics operation's result done in python are different from C++ even if the same operation is one in done language.\n",
    "\n",
    "> For example in Python sum of 0.1 + 0.1 + 0.1 will result to 0.30000000000000004 while in C++ that will be 0.3, error in python will increase if number of operation are increased.\n",
    "<img src='files/PyvsC++.png'>\n",
    "\n",
    "> Due to this calucation of many quantity is affected in python implementation like probablity calculation which in end give different result"
   ]
  }
 ],
 "metadata": {
  "kernelspec": {
   "display_name": "Python 3",
   "language": "python",
   "name": "python3"
  },
  "language_info": {
   "codemirror_mode": {
    "name": "ipython",
    "version": 3
   },
   "file_extension": ".py",
   "mimetype": "text/x-python",
   "name": "python",
   "nbconvert_exporter": "python",
   "pygments_lexer": "ipython3",
   "version": "3.7.6"
  }
 },
 "nbformat": 4,
 "nbformat_minor": 4
}
